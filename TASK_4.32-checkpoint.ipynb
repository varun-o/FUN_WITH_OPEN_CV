{
 "cells": [
  {
   "cell_type": "markdown",
   "id": "4cc3f8d4",
   "metadata": {},
   "source": [
    "# TASK - 4.3 (COLLAGE)"
   ]
  },
  {
   "cell_type": "markdown",
   "id": "002f3b92",
   "metadata": {},
   "source": [
    "# importing the modules"
   ]
  },
  {
   "cell_type": "code",
   "execution_count": 60,
   "id": "fa5c1cd6",
   "metadata": {},
   "outputs": [],
   "source": [
    "import cv2\n",
    "import numpy as np"
   ]
  },
  {
   "cell_type": "markdown",
   "id": "3f657464",
   "metadata": {},
   "source": [
    "# read all the images\n",
    "# we are going to take 4 images only"
   ]
  },
  {
   "cell_type": "code",
   "execution_count": 61,
   "id": "e6e09d66",
   "metadata": {},
   "outputs": [],
   "source": [
    "image1=cv2.imread(\"image1.jpg\")\n",
    "image2=cv2.imread(\"image2.jpg\")\n",
    "image3=cv2.imread(\"image3.jpg\")\n",
    "image4=cv2.imread(\"image4.jpg\")"
   ]
  },
  {
   "cell_type": "markdown",
   "id": "73cd9d4b",
   "metadata": {},
   "source": [
    "# make all the images of same size \n",
    "# so we will use resize function"
   ]
  },
  {
   "cell_type": "code",
   "execution_count": 62,
   "id": "513100a8",
   "metadata": {},
   "outputs": [],
   "source": [
    "image1=cv2.resize(image1,(200,200))\n",
    "image2=cv2.resize(image2,(200,200))\n",
    "image3=cv2.resize(image3,(200,200))\n",
    "image4=cv2.resize(image4,(200,200))"
   ]
  },
  {
   "cell_type": "markdown",
   "id": "59a25c9f",
   "metadata": {},
   "source": [
    "# Now how we will attach image with other image\n",
    "# we will create a horizontal stack of images\n",
    "# then we will add it to the vertical stack\n",
    "# let the horizontal pair be (image1,image2)\n",
    "# and (image3,image4)\n",
    "# we will use numpy stack function"
   ]
  },
  {
   "cell_type": "code",
   "execution_count": 63,
   "id": "8b837b2c",
   "metadata": {},
   "outputs": [],
   "source": [
    "Horizontal1=np.hstack([image1,image2])\n",
    "Horizontal2=np.hstack([image3,image4])"
   ]
  },
  {
   "cell_type": "markdown",
   "id": "110f20a1",
   "metadata": {},
   "source": [
    "# Now the horizontal attachment is done\n",
    "# noe vertical attachment"
   ]
  },
  {
   "cell_type": "code",
   "execution_count": 64,
   "id": "9a8a949e",
   "metadata": {},
   "outputs": [],
   "source": [
    "Vertical_attachment=np.vstack([Horizontal1,Horizontal2])\n"
   ]
  },
  {
   "cell_type": "markdown",
   "id": "e9975a21",
   "metadata": {},
   "source": [
    "# Show the final attachment"
   ]
  },
  {
   "cell_type": "code",
   "execution_count": 65,
   "id": "f50229dd",
   "metadata": {},
   "outputs": [],
   "source": [
    "cv2.imshow(\"Final Collage\",Vertical_attachment)\n",
    "cv2.waitKey(0)\n",
    "cv2.destroyAllWindows()"
   ]
  },
  {
   "cell_type": "code",
   "execution_count": 47,
   "id": "66221eef",
   "metadata": {},
   "outputs": [],
   "source": []
  },
  {
   "cell_type": "code",
   "execution_count": null,
   "id": "40c62bf5",
   "metadata": {},
   "outputs": [],
   "source": []
  }
 ],
 "metadata": {
  "kernelspec": {
   "display_name": "Python 3",
   "language": "python",
   "name": "python3"
  },
  "language_info": {
   "codemirror_mode": {
    "name": "ipython",
    "version": 3
   },
   "file_extension": ".py",
   "mimetype": "text/x-python",
   "name": "python",
   "nbconvert_exporter": "python",
   "pygments_lexer": "ipython3",
   "version": "3.8.8"
  }
 },
 "nbformat": 4,
 "nbformat_minor": 5
}
