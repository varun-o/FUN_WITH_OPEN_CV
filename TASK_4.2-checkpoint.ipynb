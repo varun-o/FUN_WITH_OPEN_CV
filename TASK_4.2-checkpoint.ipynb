{
 "cells": [
  {
   "cell_type": "markdown",
   "id": "187b2077",
   "metadata": {},
   "source": [
    "# TASK - 4.2 (SWAPPING)"
   ]
  },
  {
   "cell_type": "markdown",
   "id": "044cec3e",
   "metadata": {},
   "source": [
    "# IMPORTING MODULES"
   ]
  },
  {
   "cell_type": "code",
   "execution_count": 3,
   "id": "4fc7a4db",
   "metadata": {},
   "outputs": [],
   "source": [
    "import cv2\n",
    "import numpy"
   ]
  },
  {
   "cell_type": "markdown",
   "id": "f4aadf2c",
   "metadata": {},
   "source": [
    "# READING IMAGE1"
   ]
  },
  {
   "cell_type": "code",
   "execution_count": 4,
   "id": "816de64d",
   "metadata": {},
   "outputs": [],
   "source": [
    "image1 = cv2.imread(\"1.jpg\")\n",
    "image1 = cv2.resize(image1, (720, 720))\n",
    "cv2.imshow(\"image1\" , image1)\n",
    "cv2.waitKey()\n",
    "cv2.destroyAllWindows()"
   ]
  },
  {
   "cell_type": "code",
   "execution_count": 5,
   "id": "ac7d89f5",
   "metadata": {},
   "outputs": [
    {
     "data": {
      "text/plain": [
       "(720, 720, 3)"
      ]
     },
     "execution_count": 5,
     "metadata": {},
     "output_type": "execute_result"
    }
   ],
   "source": [
    "image1.shape"
   ]
  },
  {
   "cell_type": "markdown",
   "id": "dd8fc4f8",
   "metadata": {},
   "source": [
    "# CROPING IMAGE1"
   ]
  },
  {
   "cell_type": "code",
   "execution_count": 6,
   "id": "054b5426",
   "metadata": {},
   "outputs": [],
   "source": [
    "y1=309\n",
    "x1=62\n",
    "h1=432\n",
    "w1=208\n",
    "crop_image1 = image1[62:208, 309:432]\n",
    "cv2.imshow(\"Cropped1\", crop_image1)\n",
    "cv2.waitKey()\n",
    "cv2.destroyAllWindows()"
   ]
  },
  {
   "cell_type": "markdown",
   "id": "2869e5e2",
   "metadata": {},
   "source": [
    "# READING IMAGE2"
   ]
  },
  {
   "cell_type": "code",
   "execution_count": 7,
   "id": "1b4a6993",
   "metadata": {},
   "outputs": [
    {
     "name": "stdout",
     "output_type": "stream",
     "text": [
      "(2592, 1740, 3)\n"
     ]
    }
   ],
   "source": [
    "image2 = cv2.imread(\"2.jpg\")\n",
    "print(image2.shape)\n",
    "image2 = cv2.resize(image2, (720, 720))\n",
    "cv2.imshow(\"image2\" , image2)\n",
    "cv2.waitKey()\n",
    "cv2.destroyAllWindows()"
   ]
  },
  {
   "cell_type": "code",
   "execution_count": 8,
   "id": "5da18722",
   "metadata": {},
   "outputs": [
    {
     "data": {
      "text/plain": [
       "(720, 720, 3)"
      ]
     },
     "execution_count": 8,
     "metadata": {},
     "output_type": "execute_result"
    }
   ],
   "source": [
    "image2.shape\n",
    "\n",
    "\n"
   ]
  },
  {
   "cell_type": "markdown",
   "id": "f58faa28",
   "metadata": {},
   "source": [
    "# CROPING IMAGE2"
   ]
  },
  {
   "cell_type": "code",
   "execution_count": 9,
   "id": "6d9fdf8e",
   "metadata": {},
   "outputs": [],
   "source": [
    "y2=307\n",
    "x2=55\n",
    "h2=435\n",
    "w2=195\n",
    "crop_image2 = image2[x2:w2, y2:h2]\n",
    "cv2.imshow(\"Cropped2\", crop_image2)\n",
    "cv2.waitKey()\n",
    "cv2.destroyAllWindows()"
   ]
  },
  {
   "cell_type": "code",
   "execution_count": 10,
   "id": "d9c41d13",
   "metadata": {},
   "outputs": [],
   "source": [
    "crop_image1=numpy.copy(crop_image1)\n",
    "crop_image2=numpy.copy(crop_image2)"
   ]
  },
  {
   "cell_type": "markdown",
   "id": "046a4e47",
   "metadata": {},
   "source": [
    "# SWAPPING CROPED PART OF IMAGE 1 AND 2"
   ]
  },
  {
   "cell_type": "code",
   "execution_count": 11,
   "id": "716dd199",
   "metadata": {},
   "outputs": [],
   "source": [
    "image2[x1:w1 , y1:h1] = crop_image1\n",
    "image1[x2:w2 , y2:h2] = crop_image2"
   ]
  },
  {
   "cell_type": "code",
   "execution_count": 12,
   "id": "3a3e4a54",
   "metadata": {},
   "outputs": [],
   "source": [
    "cv2.imshow('hi' , image1)\n",
    "cv2.imshow('hello',image2)\n",
    "cv2.waitKey()\n",
    "cv2.destroyAllWindows()"
   ]
  },
  {
   "cell_type": "code",
   "execution_count": null,
   "id": "ced295ea",
   "metadata": {},
   "outputs": [],
   "source": []
  },
  {
   "cell_type": "code",
   "execution_count": null,
   "id": "de742a08",
   "metadata": {},
   "outputs": [],
   "source": []
  },
  {
   "cell_type": "code",
   "execution_count": null,
   "id": "e0e1096e",
   "metadata": {},
   "outputs": [],
   "source": []
  }
 ],
 "metadata": {
  "kernelspec": {
   "display_name": "Python 3",
   "language": "python",
   "name": "python3"
  },
  "language_info": {
   "codemirror_mode": {
    "name": "ipython",
    "version": 3
   },
   "file_extension": ".py",
   "mimetype": "text/x-python",
   "name": "python",
   "nbconvert_exporter": "python",
   "pygments_lexer": "ipython3",
   "version": "3.8.8"
  }
 },
 "nbformat": 4,
 "nbformat_minor": 5
}
