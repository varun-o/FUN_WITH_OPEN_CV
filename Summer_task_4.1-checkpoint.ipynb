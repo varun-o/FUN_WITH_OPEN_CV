{
 "cells": [
  {
   "cell_type": "markdown",
   "id": "b0d03266",
   "metadata": {},
   "source": [
    "#  TASK 4.1 Create own image\n"
   ]
  },
  {
   "cell_type": "code",
   "execution_count": 147,
   "id": "278f1f6a",
   "metadata": {},
   "outputs": [],
   "source": [
    "import cv2\n",
    "import numpy"
   ]
  },
  {
   "cell_type": "code",
   "execution_count": 148,
   "id": "c03b19df",
   "metadata": {},
   "outputs": [],
   "source": [
    "photo = numpy.zeros((500,500, 3))\n",
    "photo[ : , : ]=[230,100,0]\n",
    "cv2.imshow(\"hi\", photo)\n",
    "cv2.waitKey()\n",
    "cv2.destroyAllWindows()"
   ]
  },
  {
   "cell_type": "code",
   "execution_count": 149,
   "id": "e805c08b",
   "metadata": {},
   "outputs": [],
   "source": [
    "#road\n",
    "photo[400:500, : ] = [0,0,0]\n",
    "photo[430:455, 40:120] = [255,255,255]\n",
    "photo[430:455, 150:250] = [255,255,255]\n",
    "photo[430:455, 300:380] = [255,255,255]\n",
    "photo[430:455, 430:490] = [255,255,255]\n",
    "cv2.imshow(\"hi\", photo)\n",
    "cv2.waitKey()\n",
    "cv2.destroyAllWindows()"
   ]
  },
  {
   "cell_type": "code",
   "execution_count": 150,
   "id": "15afccd8",
   "metadata": {},
   "outputs": [],
   "source": [
    "#building\n",
    "photo[150:400, 130:390] = [0, 0, 255]\n",
    "photo[170:230, 210:300] = [0,0,0]\n",
    "#photo = cv2.line(photo, (200,210), (200,300) ,(255,255,255), 5)\n",
    "photo[260:320, 210:300] = [0,0,0]\n",
    "#photo[350:400, 210:300] = [255,0,0]\n",
    "photo[100:150, 140:190] = [0,0,0]\n",
    "photo[100:150, 310:360] = [0,0,0]"
   ]
  },
  {
   "cell_type": "code",
   "execution_count": 151,
   "id": "74e9a14b",
   "metadata": {},
   "outputs": [],
   "source": [
    "#tree\n",
    "photo[210:400,40:70] = [0,0,0]\n",
    "photo = cv2.circle(photo, (60,190) ,30, (0,255,0) ,-1 )\n",
    "photo = cv2.circle(photo, (50,200) ,30, (0,255,0) ,-1 )\n",
    "photo = cv2.circle(photo, (70,170) ,30, (0,255,0) ,-1 )\n",
    "photo = cv2.circle(photo, (60,220) ,30, (0,255,0) ,-1 )\n",
    "photo = cv2.circle(photo, (40,180) ,30, (0,255,0) ,-1 )\n",
    "photo = cv2.circle(photo, (80,160) ,30, (0,255,0) ,-1 )\n",
    "photo = cv2.circle(photo, (20,260) ,30, (0,255,0) ,-1 )\n",
    "photo = cv2.circle(photo, (10,240) ,30, (0,255,0) ,-1 )\n",
    "photo = cv2.circle(photo, (30,140) ,30, (0,255,0) ,-1 )\n",
    "photo = cv2.circle(photo, (42,120) ,30, (0,255,0) ,-1 )\n",
    "photo = cv2.circle(photo, (95,270) ,30, (0,255,0) ,-1 )\n",
    "photo = cv2.circle(photo, (105,250) ,30, (0,255,0) ,-1 )\n",
    "photo = cv2.circle(photo, (65,250) ,30, (0,255,0) ,-1 )\n",
    "photo = cv2.circle(photo, (115,215) ,30, (0,255,0) ,-1 )\n",
    "photo = cv2.circle(photo, (115,200) ,30, (0,255,0) ,-1 )\n",
    "photo = cv2.circle(photo, (105,185) ,30, (0,255,0) ,-1 )\n",
    "photo = cv2.circle(photo, (75,150) ,50, (0,255,0) ,-1 )\n",
    "photo = cv2.circle(photo, (10,195) ,40, (0,255,0) ,-1 )"
   ]
  },
  {
   "cell_type": "code",
   "execution_count": 152,
   "id": "0247ef4e",
   "metadata": {},
   "outputs": [],
   "source": [
    "#sun\n",
    "photo = cv2.circle(photo,(420, 60), 50, (0,225,225), -1 )\n",
    "cv2.imshow(\"hi\", photo)\n",
    "cv2.waitKey()\n",
    "cv2.destroyAllWindows()"
   ]
  },
  {
   "cell_type": "code",
   "execution_count": 153,
   "id": "42a8e7ba",
   "metadata": {},
   "outputs": [],
   "source": [
    "#car\n",
    "photo = cv2.rectangle(photo, (70,350), (210,390), (255,0,0), -1 )\n",
    "photo = cv2.rectangle(photo, (210,370), (220,380), (0,0,0), -1 )\n",
    "#smoke\n",
    "photo = cv2.circle(photo, (230,370), 10, (255,255,255), -1 )\n",
    "photo = cv2.circle(photo, (250,367), 15, (255,255,255), -1 )\n",
    "photo = cv2.circle(photo, (275,365), 20, (255,255,255), -1 )\n",
    "photo = cv2.circle(photo, (280,363), 23, (255,255,255), -1 )\n",
    "photo = cv2.circle(photo, (295,361), 27, (255,255,255), -1 )\n",
    "\n",
    "#wheels\n",
    "photo = cv2.circle(photo, (90,410), 20, (255,255,255), -1 )\n",
    "photo = cv2.circle(photo, (90,410), 10, (0,0,0), -1 )\n",
    "\n",
    "photo = cv2.circle(photo, (180,410), 20, (255,255,255), -1 )\n",
    "photo = cv2.circle(photo, (180,410), 10, (0,0,0), -1 )\n",
    "\n",
    "photo = cv2.rectangle(photo, (100,320), (180,350), (255,255,255), 5 )\n",
    "photo = cv2.line(photo, (100,320), (70,350), (255,255,255), 5 )\n",
    "photo = cv2.line(photo, (180,320), (210,350), (255,255,255), 5 )\n",
    "photo = cv2.line(photo, (140,320), (140,350), (255,255,255), 5 )\n",
    "\n",
    "\n",
    "cv2.imshow(\"hi\",photo)\n",
    "cv2.waitKey()\n",
    "cv2.destroyAllWindows()\n",
    "cv2.imwrite('myimage.jpeg', photo)"
   ]
  },
  {
   "cell_type": "code",
   "execution_count": null,
   "id": "3c5cf7c1",
   "metadata": {},
   "outputs": [],
   "source": []
  },
  {
   "cell_type": "code",
   "execution_count": null,
   "id": "ffe9a7ca",
   "metadata": {},
   "outputs": [],
   "source": []
  }
 ],
 "metadata": {
  "kernelspec": {
   "display_name": "Python 3",
   "language": "python",
   "name": "python3"
  },
  "language_info": {
   "codemirror_mode": {
    "name": "ipython",
    "version": 3
   },
   "file_extension": ".py",
   "mimetype": "text/x-python",
   "name": "python",
   "nbconvert_exporter": "python",
   "pygments_lexer": "ipython3",
   "version": "3.8.8"
  }
 },
 "nbformat": 4,
 "nbformat_minor": 5
}
