{
 "cells": [
  {
   "cell_type": "markdown",
   "id": "e89819ef",
   "metadata": {},
   "source": [
    "# TASK - 4.3"
   ]
  },
  {
   "cell_type": "markdown",
   "id": "c5a1ea80",
   "metadata": {},
   "source": [
    "# importing modules"
   ]
  },
  {
   "cell_type": "code",
   "execution_count": 23,
   "id": "4c8d5423",
   "metadata": {},
   "outputs": [],
   "source": [
    "import cv2\n",
    "import numpy as np"
   ]
  },
  {
   "cell_type": "markdown",
   "id": "fb03b35c",
   "metadata": {},
   "source": [
    "# read and resize image1"
   ]
  },
  {
   "cell_type": "code",
   "execution_count": 24,
   "id": "2793ca02",
   "metadata": {},
   "outputs": [],
   "source": [
    "rick = cv2.imread('rick.png')\n",
    "rick = cv2.resize(rick ,(400,400))\n",
    "cv2.imshow(\"RICK\",rick)\n",
    "cv2.waitKey()\n",
    "cv2.destroyAllWindows()"
   ]
  },
  {
   "cell_type": "markdown",
   "id": "abb28a00",
   "metadata": {},
   "source": [
    "# read and resize image2"
   ]
  },
  {
   "cell_type": "code",
   "execution_count": 25,
   "id": "4c5e47dc",
   "metadata": {},
   "outputs": [],
   "source": [
    "morty = cv2.imread('morty.png')\n",
    "morty = cv2.resize(morty ,(400,400))\n",
    "cv2.imshow(\"MORTY\",morty)\n",
    "cv2.waitKey()\n",
    "cv2.destroyAllWindows()"
   ]
  },
  {
   "cell_type": "markdown",
   "id": "c2c05261",
   "metadata": {},
   "source": [
    "# joining images horizontally"
   ]
  },
  {
   "cell_type": "code",
   "execution_count": 26,
   "id": "2777badf",
   "metadata": {},
   "outputs": [],
   "source": [
    "horizontal = np.hstack((rick,morty))\n",
    "cv2.imshow(\"Horizontal\",horizontal)\n",
    "cv2.waitKey()\n",
    "cv2.destroyAllWindows()"
   ]
  },
  {
   "cell_type": "markdown",
   "id": "1df4416d",
   "metadata": {},
   "source": [
    "# joining images vertically"
   ]
  },
  {
   "cell_type": "code",
   "execution_count": 27,
   "id": "70ec827c",
   "metadata": {},
   "outputs": [],
   "source": [
    "vertical = np.vstack((rick,morty))\n",
    "cv2.imshow(\"Vertical\",vertical)\n",
    "cv2.waitKey()\n",
    "cv2.destroyAllWindows()"
   ]
  },
  {
   "cell_type": "code",
   "execution_count": null,
   "id": "3bc425b1",
   "metadata": {},
   "outputs": [],
   "source": []
  }
 ],
 "metadata": {
  "kernelspec": {
   "display_name": "Python 3",
   "language": "python",
   "name": "python3"
  },
  "language_info": {
   "codemirror_mode": {
    "name": "ipython",
    "version": 3
   },
   "file_extension": ".py",
   "mimetype": "text/x-python",
   "name": "python",
   "nbconvert_exporter": "python",
   "pygments_lexer": "ipython3",
   "version": "3.8.8"
  }
 },
 "nbformat": 4,
 "nbformat_minor": 5
}
